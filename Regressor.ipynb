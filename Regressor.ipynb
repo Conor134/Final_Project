{
 "metadata": {
  "language_info": {
   "codemirror_mode": {
    "name": "ipython",
    "version": 3
   },
   "file_extension": ".py",
   "mimetype": "text/x-python",
   "name": "python",
   "nbconvert_exporter": "python",
   "pygments_lexer": "ipython3",
   "version": "3.7.6-final"
  },
  "orig_nbformat": 2,
  "kernelspec": {
   "name": "python3",
   "display_name": "Python 3"
  }
 },
 "nbformat": 4,
 "nbformat_minor": 2,
 "cells": [
  {
   "cell_type": "code",
   "execution_count": 1,
   "metadata": {},
   "outputs": [],
   "source": [
    "import matplotlib.pyplot as plt\n",
    "import numpy as np\n",
    "import pandas as pd\n",
    "\n",
    "\n",
    "from sklearn import tree\n",
    "from sklearn.ensemble import RandomForestRegressor\n",
    "from sklearn.ensemble import RandomForestClassifier"
   ]
  },
  {
   "cell_type": "code",
   "execution_count": 84,
   "metadata": {},
   "outputs": [],
   "source": [
    "# Read the csv file into a pandas DataFrame\n",
    "# perfs = pd.read_csv('Perf_OrFracs.csv', encoding = \"utf-8\")\n",
    "# perfs.head()"
   ]
  },
  {
   "cell_type": "code",
   "execution_count": 3,
   "metadata": {},
   "outputs": [
    {
     "output_type": "execute_result",
     "data": {
      "text/plain": [
       "    Well   MD  Perfed  Fracced                    Lithology   Age  API_PVT  \\\n",
       "0  P-103  753       1        1  andesitic tuff fine-grained  K2cp     17.0   \n",
       "1  P-103  754       1        1  andesitic tuff fine-grained  K2cp     17.0   \n",
       "2  P-103  755       1        1  andesitic tuff fine-grained  K2cp     17.0   \n",
       "3  P-103  756       1        1  andesitic tuff fine-grained  K2cp     17.0   \n",
       "4  P-103  757       1        1  andesitic tuff fine-grained  K2cp     17.0   \n",
       "\n",
       "   API_CUPET  API_Avg  DIFF_API  ...  CurrentRate  CurrentWC  WaterRate  \\\n",
       "0        NaN     17.0       NaN  ...         0.18      80.85       0.76   \n",
       "1        NaN     17.0       NaN  ...         0.18      80.85       0.76   \n",
       "2        NaN     17.0       NaN  ...         0.18      80.85       0.76   \n",
       "3        NaN     17.0       NaN  ...         0.18      80.85       0.76   \n",
       "4        NaN     17.0       NaN  ...         0.18      80.85       0.76   \n",
       "\n",
       "     CumOil  MaxOil  BeforeFrac  Normalised  FracSize  BeforeFracProd  \\\n",
       "0  181022.0   283.0        49.0     86582.0       8.0           148.2   \n",
       "1  181022.0   283.0        49.0     86582.0       8.0           148.2   \n",
       "2  181022.0   283.0        49.0     86582.0       8.0           148.2   \n",
       "3  181022.0   283.0        49.0     86582.0       8.0           148.2   \n",
       "4  181022.0   283.0        49.0     86582.0       8.0           148.2   \n",
       "\n",
       "   AfterFracProd  \n",
       "0         1444.0  \n",
       "1         1444.0  \n",
       "2         1444.0  \n",
       "3         1444.0  \n",
       "4         1444.0  \n",
       "\n",
       "[5 rows x 30 columns]"
      ],
      "text/html": "<div>\n<style scoped>\n    .dataframe tbody tr th:only-of-type {\n        vertical-align: middle;\n    }\n\n    .dataframe tbody tr th {\n        vertical-align: top;\n    }\n\n    .dataframe thead th {\n        text-align: right;\n    }\n</style>\n<table border=\"1\" class=\"dataframe\">\n  <thead>\n    <tr style=\"text-align: right;\">\n      <th></th>\n      <th>Well</th>\n      <th>MD</th>\n      <th>Perfed</th>\n      <th>Fracced</th>\n      <th>Lithology</th>\n      <th>Age</th>\n      <th>API_PVT</th>\n      <th>API_CUPET</th>\n      <th>API_Avg</th>\n      <th>DIFF_API</th>\n      <th>...</th>\n      <th>CurrentRate</th>\n      <th>CurrentWC</th>\n      <th>WaterRate</th>\n      <th>CumOil</th>\n      <th>MaxOil</th>\n      <th>BeforeFrac</th>\n      <th>Normalised</th>\n      <th>FracSize</th>\n      <th>BeforeFracProd</th>\n      <th>AfterFracProd</th>\n    </tr>\n  </thead>\n  <tbody>\n    <tr>\n      <th>0</th>\n      <td>P-103</td>\n      <td>753</td>\n      <td>1</td>\n      <td>1</td>\n      <td>andesitic tuff fine-grained</td>\n      <td>K2cp</td>\n      <td>17.0</td>\n      <td>NaN</td>\n      <td>17.0</td>\n      <td>NaN</td>\n      <td>...</td>\n      <td>0.18</td>\n      <td>80.85</td>\n      <td>0.76</td>\n      <td>181022.0</td>\n      <td>283.0</td>\n      <td>49.0</td>\n      <td>86582.0</td>\n      <td>8.0</td>\n      <td>148.2</td>\n      <td>1444.0</td>\n    </tr>\n    <tr>\n      <th>1</th>\n      <td>P-103</td>\n      <td>754</td>\n      <td>1</td>\n      <td>1</td>\n      <td>andesitic tuff fine-grained</td>\n      <td>K2cp</td>\n      <td>17.0</td>\n      <td>NaN</td>\n      <td>17.0</td>\n      <td>NaN</td>\n      <td>...</td>\n      <td>0.18</td>\n      <td>80.85</td>\n      <td>0.76</td>\n      <td>181022.0</td>\n      <td>283.0</td>\n      <td>49.0</td>\n      <td>86582.0</td>\n      <td>8.0</td>\n      <td>148.2</td>\n      <td>1444.0</td>\n    </tr>\n    <tr>\n      <th>2</th>\n      <td>P-103</td>\n      <td>755</td>\n      <td>1</td>\n      <td>1</td>\n      <td>andesitic tuff fine-grained</td>\n      <td>K2cp</td>\n      <td>17.0</td>\n      <td>NaN</td>\n      <td>17.0</td>\n      <td>NaN</td>\n      <td>...</td>\n      <td>0.18</td>\n      <td>80.85</td>\n      <td>0.76</td>\n      <td>181022.0</td>\n      <td>283.0</td>\n      <td>49.0</td>\n      <td>86582.0</td>\n      <td>8.0</td>\n      <td>148.2</td>\n      <td>1444.0</td>\n    </tr>\n    <tr>\n      <th>3</th>\n      <td>P-103</td>\n      <td>756</td>\n      <td>1</td>\n      <td>1</td>\n      <td>andesitic tuff fine-grained</td>\n      <td>K2cp</td>\n      <td>17.0</td>\n      <td>NaN</td>\n      <td>17.0</td>\n      <td>NaN</td>\n      <td>...</td>\n      <td>0.18</td>\n      <td>80.85</td>\n      <td>0.76</td>\n      <td>181022.0</td>\n      <td>283.0</td>\n      <td>49.0</td>\n      <td>86582.0</td>\n      <td>8.0</td>\n      <td>148.2</td>\n      <td>1444.0</td>\n    </tr>\n    <tr>\n      <th>4</th>\n      <td>P-103</td>\n      <td>757</td>\n      <td>1</td>\n      <td>1</td>\n      <td>andesitic tuff fine-grained</td>\n      <td>K2cp</td>\n      <td>17.0</td>\n      <td>NaN</td>\n      <td>17.0</td>\n      <td>NaN</td>\n      <td>...</td>\n      <td>0.18</td>\n      <td>80.85</td>\n      <td>0.76</td>\n      <td>181022.0</td>\n      <td>283.0</td>\n      <td>49.0</td>\n      <td>86582.0</td>\n      <td>8.0</td>\n      <td>148.2</td>\n      <td>1444.0</td>\n    </tr>\n  </tbody>\n</table>\n<p>5 rows × 30 columns</p>\n</div>"
     },
     "metadata": {},
     "execution_count": 3
    }
   ],
   "source": [
    "perfs = pd.read_excel('../FinalProject/WellInfo_Cleaned.xlsx', sheet_name='Perfs_Productions') \n",
    "perfs.head()"
   ]
  },
  {
   "cell_type": "code",
   "execution_count": 4,
   "metadata": {},
   "outputs": [
    {
     "output_type": "execute_result",
     "data": {
      "text/plain": [
       "    Well   MD  Perfed  Fracced                    Lithology   Age  API_PVT  \\\n",
       "0  P-103  753       1        1  andesitic tuff fine-grained  K2cp     17.0   \n",
       "1  P-103  754       1        1  andesitic tuff fine-grained  K2cp     17.0   \n",
       "2  P-103  755       1        1  andesitic tuff fine-grained  K2cp     17.0   \n",
       "3  P-103  756       1        1  andesitic tuff fine-grained  K2cp     17.0   \n",
       "4  P-103  757       1        1  andesitic tuff fine-grained  K2cp     17.0   \n",
       "\n",
       "   API_CUPET  API_Avg  DIFF_API  ...  CurrentRate  CurrentWC  WaterRate  \\\n",
       "0        NaN     17.0       NaN  ...         0.18      80.85       0.76   \n",
       "1        NaN     17.0       NaN  ...         0.18      80.85       0.76   \n",
       "2        NaN     17.0       NaN  ...         0.18      80.85       0.76   \n",
       "3        NaN     17.0       NaN  ...         0.18      80.85       0.76   \n",
       "4        NaN     17.0       NaN  ...         0.18      80.85       0.76   \n",
       "\n",
       "     CumOil  MaxOil  BeforeFrac  Normalised  FracSize  BeforeFracProd  \\\n",
       "0  181022.0   283.0        49.0     86582.0       8.0           148.2   \n",
       "1  181022.0   283.0        49.0     86582.0       8.0           148.2   \n",
       "2  181022.0   283.0        49.0     86582.0       8.0           148.2   \n",
       "3  181022.0   283.0        49.0     86582.0       8.0           148.2   \n",
       "4  181022.0   283.0        49.0     86582.0       8.0           148.2   \n",
       "\n",
       "   AfterFracProd  \n",
       "0         1444.0  \n",
       "1         1444.0  \n",
       "2         1444.0  \n",
       "3         1444.0  \n",
       "4         1444.0  \n",
       "\n",
       "[5 rows x 30 columns]"
      ],
      "text/html": "<div>\n<style scoped>\n    .dataframe tbody tr th:only-of-type {\n        vertical-align: middle;\n    }\n\n    .dataframe tbody tr th {\n        vertical-align: top;\n    }\n\n    .dataframe thead th {\n        text-align: right;\n    }\n</style>\n<table border=\"1\" class=\"dataframe\">\n  <thead>\n    <tr style=\"text-align: right;\">\n      <th></th>\n      <th>Well</th>\n      <th>MD</th>\n      <th>Perfed</th>\n      <th>Fracced</th>\n      <th>Lithology</th>\n      <th>Age</th>\n      <th>API_PVT</th>\n      <th>API_CUPET</th>\n      <th>API_Avg</th>\n      <th>DIFF_API</th>\n      <th>...</th>\n      <th>CurrentRate</th>\n      <th>CurrentWC</th>\n      <th>WaterRate</th>\n      <th>CumOil</th>\n      <th>MaxOil</th>\n      <th>BeforeFrac</th>\n      <th>Normalised</th>\n      <th>FracSize</th>\n      <th>BeforeFracProd</th>\n      <th>AfterFracProd</th>\n    </tr>\n  </thead>\n  <tbody>\n    <tr>\n      <th>0</th>\n      <td>P-103</td>\n      <td>753</td>\n      <td>1</td>\n      <td>1</td>\n      <td>andesitic tuff fine-grained</td>\n      <td>K2cp</td>\n      <td>17.0</td>\n      <td>NaN</td>\n      <td>17.0</td>\n      <td>NaN</td>\n      <td>...</td>\n      <td>0.18</td>\n      <td>80.85</td>\n      <td>0.76</td>\n      <td>181022.0</td>\n      <td>283.0</td>\n      <td>49.0</td>\n      <td>86582.0</td>\n      <td>8.0</td>\n      <td>148.2</td>\n      <td>1444.0</td>\n    </tr>\n    <tr>\n      <th>1</th>\n      <td>P-103</td>\n      <td>754</td>\n      <td>1</td>\n      <td>1</td>\n      <td>andesitic tuff fine-grained</td>\n      <td>K2cp</td>\n      <td>17.0</td>\n      <td>NaN</td>\n      <td>17.0</td>\n      <td>NaN</td>\n      <td>...</td>\n      <td>0.18</td>\n      <td>80.85</td>\n      <td>0.76</td>\n      <td>181022.0</td>\n      <td>283.0</td>\n      <td>49.0</td>\n      <td>86582.0</td>\n      <td>8.0</td>\n      <td>148.2</td>\n      <td>1444.0</td>\n    </tr>\n    <tr>\n      <th>2</th>\n      <td>P-103</td>\n      <td>755</td>\n      <td>1</td>\n      <td>1</td>\n      <td>andesitic tuff fine-grained</td>\n      <td>K2cp</td>\n      <td>17.0</td>\n      <td>NaN</td>\n      <td>17.0</td>\n      <td>NaN</td>\n      <td>...</td>\n      <td>0.18</td>\n      <td>80.85</td>\n      <td>0.76</td>\n      <td>181022.0</td>\n      <td>283.0</td>\n      <td>49.0</td>\n      <td>86582.0</td>\n      <td>8.0</td>\n      <td>148.2</td>\n      <td>1444.0</td>\n    </tr>\n    <tr>\n      <th>3</th>\n      <td>P-103</td>\n      <td>756</td>\n      <td>1</td>\n      <td>1</td>\n      <td>andesitic tuff fine-grained</td>\n      <td>K2cp</td>\n      <td>17.0</td>\n      <td>NaN</td>\n      <td>17.0</td>\n      <td>NaN</td>\n      <td>...</td>\n      <td>0.18</td>\n      <td>80.85</td>\n      <td>0.76</td>\n      <td>181022.0</td>\n      <td>283.0</td>\n      <td>49.0</td>\n      <td>86582.0</td>\n      <td>8.0</td>\n      <td>148.2</td>\n      <td>1444.0</td>\n    </tr>\n    <tr>\n      <th>4</th>\n      <td>P-103</td>\n      <td>757</td>\n      <td>1</td>\n      <td>1</td>\n      <td>andesitic tuff fine-grained</td>\n      <td>K2cp</td>\n      <td>17.0</td>\n      <td>NaN</td>\n      <td>17.0</td>\n      <td>NaN</td>\n      <td>...</td>\n      <td>0.18</td>\n      <td>80.85</td>\n      <td>0.76</td>\n      <td>181022.0</td>\n      <td>283.0</td>\n      <td>49.0</td>\n      <td>86582.0</td>\n      <td>8.0</td>\n      <td>148.2</td>\n      <td>1444.0</td>\n    </tr>\n  </tbody>\n</table>\n<p>5 rows × 30 columns</p>\n</div>"
     },
     "metadata": {},
     "execution_count": 4
    }
   ],
   "source": [
    "perfs.head()"
   ]
  },
  {
   "cell_type": "code",
   "execution_count": 5,
   "metadata": {},
   "outputs": [
    {
     "output_type": "stream",
     "name": "stdout",
     "text": [
      "Well               object\nMD                  int64\nPerfed              int64\nFracced             int64\nLithology          object\nAge                object\nAPI_PVT           float64\nAPI_CUPET         float64\nAPI_Avg           float64\nDIFF_API          float64\nGasGravity        float64\nOilGravity        float64\nP_Sat             float64\nUo                float64\nUg                float64\nBo                float64\nBg                float64\nCO2               float64\nH2S               float64\nInitialRate       float64\nCurrentRate       float64\nCurrentWC         float64\nWaterRate         float64\nCumOil            float64\nMaxOil            float64\nBeforeFrac        float64\nNormalised        float64\nFracSize          float64\nBeforeFracProd    float64\nAfterFracProd     float64\ndtype: object\n"
     ]
    },
    {
     "output_type": "execute_result",
     "data": {
      "text/plain": [
       "        Well    MD  Perfed  Fracced                      Lithology   Age  \\\n",
       "0      P-103   753       1        1    andesitic tuff fine-grained  K2cp   \n",
       "1      P-103   754       1        1    andesitic tuff fine-grained  K2cp   \n",
       "2      P-103   755       1        1    andesitic tuff fine-grained  K2cp   \n",
       "3      P-103   756       1        1    andesitic tuff fine-grained  K2cp   \n",
       "4      P-103   757       1        1    andesitic tuff fine-grained  K2cp   \n",
       "...      ...   ...     ...      ...                            ...   ...   \n",
       "11956    B-4  1343       1        0  andesitic tuff coarse-grained  K1al   \n",
       "11957    B-4  1344       1        0  andesitic tuff coarse-grained  K1al   \n",
       "11958    B-4  1345       1        0  andesitic tuff coarse-grained  K1al   \n",
       "11959    B-4  1346       1        0  andesitic tuff coarse-grained  K1al   \n",
       "11960    B-4  1347       1        0  andesitic tuff coarse-grained  K1al   \n",
       "\n",
       "       API_PVT  API_CUPET    API_Avg  DIFF_API  ...  CurrentRate  CurrentWC  \\\n",
       "0         17.0        NaN  17.000000       NaN  ...         0.18      80.85   \n",
       "1         17.0        NaN  17.000000       NaN  ...         0.18      80.85   \n",
       "2         17.0        NaN  17.000000       NaN  ...         0.18      80.85   \n",
       "3         17.0        NaN  17.000000       NaN  ...         0.18      80.85   \n",
       "4         17.0        NaN  17.000000       NaN  ...         0.18      80.85   \n",
       "...        ...        ...        ...       ...  ...          ...        ...   \n",
       "11956      NaN  43.191358  43.191358       NaN  ...          NaN        NaN   \n",
       "11957      NaN  43.191358  43.191358       NaN  ...          NaN        NaN   \n",
       "11958      NaN  43.191358  43.191358       NaN  ...          NaN        NaN   \n",
       "11959      NaN  43.191358  43.191358       NaN  ...          NaN        NaN   \n",
       "11960      NaN  43.191358  43.191358       NaN  ...          NaN        NaN   \n",
       "\n",
       "       WaterRate    CumOil  MaxOil  BeforeFrac  Normalised  FracSize  \\\n",
       "0           0.76  181022.0   283.0        49.0     86582.0       8.0   \n",
       "1           0.76  181022.0   283.0        49.0     86582.0       8.0   \n",
       "2           0.76  181022.0   283.0        49.0     86582.0       8.0   \n",
       "3           0.76  181022.0   283.0        49.0     86582.0       8.0   \n",
       "4           0.76  181022.0   283.0        49.0     86582.0       8.0   \n",
       "...          ...       ...     ...         ...         ...       ...   \n",
       "11956       0.00       NaN     NaN         NaN         NaN       NaN   \n",
       "11957       0.00       NaN     NaN         NaN         NaN       NaN   \n",
       "11958       0.00       NaN     NaN         NaN         NaN       NaN   \n",
       "11959       0.00       NaN     NaN         NaN         NaN       NaN   \n",
       "11960       0.00       NaN     NaN         NaN         NaN       NaN   \n",
       "\n",
       "       BeforeFracProd  AfterFracProd  \n",
       "0               148.2         1444.0  \n",
       "1               148.2         1444.0  \n",
       "2               148.2         1444.0  \n",
       "3               148.2         1444.0  \n",
       "4               148.2         1444.0  \n",
       "...               ...            ...  \n",
       "11956             NaN            NaN  \n",
       "11957             NaN            NaN  \n",
       "11958             NaN            NaN  \n",
       "11959             NaN            NaN  \n",
       "11960             NaN            NaN  \n",
       "\n",
       "[11961 rows x 30 columns]"
      ],
      "text/html": "<div>\n<style scoped>\n    .dataframe tbody tr th:only-of-type {\n        vertical-align: middle;\n    }\n\n    .dataframe tbody tr th {\n        vertical-align: top;\n    }\n\n    .dataframe thead th {\n        text-align: right;\n    }\n</style>\n<table border=\"1\" class=\"dataframe\">\n  <thead>\n    <tr style=\"text-align: right;\">\n      <th></th>\n      <th>Well</th>\n      <th>MD</th>\n      <th>Perfed</th>\n      <th>Fracced</th>\n      <th>Lithology</th>\n      <th>Age</th>\n      <th>API_PVT</th>\n      <th>API_CUPET</th>\n      <th>API_Avg</th>\n      <th>DIFF_API</th>\n      <th>...</th>\n      <th>CurrentRate</th>\n      <th>CurrentWC</th>\n      <th>WaterRate</th>\n      <th>CumOil</th>\n      <th>MaxOil</th>\n      <th>BeforeFrac</th>\n      <th>Normalised</th>\n      <th>FracSize</th>\n      <th>BeforeFracProd</th>\n      <th>AfterFracProd</th>\n    </tr>\n  </thead>\n  <tbody>\n    <tr>\n      <th>0</th>\n      <td>P-103</td>\n      <td>753</td>\n      <td>1</td>\n      <td>1</td>\n      <td>andesitic tuff fine-grained</td>\n      <td>K2cp</td>\n      <td>17.0</td>\n      <td>NaN</td>\n      <td>17.000000</td>\n      <td>NaN</td>\n      <td>...</td>\n      <td>0.18</td>\n      <td>80.85</td>\n      <td>0.76</td>\n      <td>181022.0</td>\n      <td>283.0</td>\n      <td>49.0</td>\n      <td>86582.0</td>\n      <td>8.0</td>\n      <td>148.2</td>\n      <td>1444.0</td>\n    </tr>\n    <tr>\n      <th>1</th>\n      <td>P-103</td>\n      <td>754</td>\n      <td>1</td>\n      <td>1</td>\n      <td>andesitic tuff fine-grained</td>\n      <td>K2cp</td>\n      <td>17.0</td>\n      <td>NaN</td>\n      <td>17.000000</td>\n      <td>NaN</td>\n      <td>...</td>\n      <td>0.18</td>\n      <td>80.85</td>\n      <td>0.76</td>\n      <td>181022.0</td>\n      <td>283.0</td>\n      <td>49.0</td>\n      <td>86582.0</td>\n      <td>8.0</td>\n      <td>148.2</td>\n      <td>1444.0</td>\n    </tr>\n    <tr>\n      <th>2</th>\n      <td>P-103</td>\n      <td>755</td>\n      <td>1</td>\n      <td>1</td>\n      <td>andesitic tuff fine-grained</td>\n      <td>K2cp</td>\n      <td>17.0</td>\n      <td>NaN</td>\n      <td>17.000000</td>\n      <td>NaN</td>\n      <td>...</td>\n      <td>0.18</td>\n      <td>80.85</td>\n      <td>0.76</td>\n      <td>181022.0</td>\n      <td>283.0</td>\n      <td>49.0</td>\n      <td>86582.0</td>\n      <td>8.0</td>\n      <td>148.2</td>\n      <td>1444.0</td>\n    </tr>\n    <tr>\n      <th>3</th>\n      <td>P-103</td>\n      <td>756</td>\n      <td>1</td>\n      <td>1</td>\n      <td>andesitic tuff fine-grained</td>\n      <td>K2cp</td>\n      <td>17.0</td>\n      <td>NaN</td>\n      <td>17.000000</td>\n      <td>NaN</td>\n      <td>...</td>\n      <td>0.18</td>\n      <td>80.85</td>\n      <td>0.76</td>\n      <td>181022.0</td>\n      <td>283.0</td>\n      <td>49.0</td>\n      <td>86582.0</td>\n      <td>8.0</td>\n      <td>148.2</td>\n      <td>1444.0</td>\n    </tr>\n    <tr>\n      <th>4</th>\n      <td>P-103</td>\n      <td>757</td>\n      <td>1</td>\n      <td>1</td>\n      <td>andesitic tuff fine-grained</td>\n      <td>K2cp</td>\n      <td>17.0</td>\n      <td>NaN</td>\n      <td>17.000000</td>\n      <td>NaN</td>\n      <td>...</td>\n      <td>0.18</td>\n      <td>80.85</td>\n      <td>0.76</td>\n      <td>181022.0</td>\n      <td>283.0</td>\n      <td>49.0</td>\n      <td>86582.0</td>\n      <td>8.0</td>\n      <td>148.2</td>\n      <td>1444.0</td>\n    </tr>\n    <tr>\n      <th>...</th>\n      <td>...</td>\n      <td>...</td>\n      <td>...</td>\n      <td>...</td>\n      <td>...</td>\n      <td>...</td>\n      <td>...</td>\n      <td>...</td>\n      <td>...</td>\n      <td>...</td>\n      <td>...</td>\n      <td>...</td>\n      <td>...</td>\n      <td>...</td>\n      <td>...</td>\n      <td>...</td>\n      <td>...</td>\n      <td>...</td>\n      <td>...</td>\n      <td>...</td>\n      <td>...</td>\n    </tr>\n    <tr>\n      <th>11956</th>\n      <td>B-4</td>\n      <td>1343</td>\n      <td>1</td>\n      <td>0</td>\n      <td>andesitic tuff coarse-grained</td>\n      <td>K1al</td>\n      <td>NaN</td>\n      <td>43.191358</td>\n      <td>43.191358</td>\n      <td>NaN</td>\n      <td>...</td>\n      <td>NaN</td>\n      <td>NaN</td>\n      <td>0.00</td>\n      <td>NaN</td>\n      <td>NaN</td>\n      <td>NaN</td>\n      <td>NaN</td>\n      <td>NaN</td>\n      <td>NaN</td>\n      <td>NaN</td>\n    </tr>\n    <tr>\n      <th>11957</th>\n      <td>B-4</td>\n      <td>1344</td>\n      <td>1</td>\n      <td>0</td>\n      <td>andesitic tuff coarse-grained</td>\n      <td>K1al</td>\n      <td>NaN</td>\n      <td>43.191358</td>\n      <td>43.191358</td>\n      <td>NaN</td>\n      <td>...</td>\n      <td>NaN</td>\n      <td>NaN</td>\n      <td>0.00</td>\n      <td>NaN</td>\n      <td>NaN</td>\n      <td>NaN</td>\n      <td>NaN</td>\n      <td>NaN</td>\n      <td>NaN</td>\n      <td>NaN</td>\n    </tr>\n    <tr>\n      <th>11958</th>\n      <td>B-4</td>\n      <td>1345</td>\n      <td>1</td>\n      <td>0</td>\n      <td>andesitic tuff coarse-grained</td>\n      <td>K1al</td>\n      <td>NaN</td>\n      <td>43.191358</td>\n      <td>43.191358</td>\n      <td>NaN</td>\n      <td>...</td>\n      <td>NaN</td>\n      <td>NaN</td>\n      <td>0.00</td>\n      <td>NaN</td>\n      <td>NaN</td>\n      <td>NaN</td>\n      <td>NaN</td>\n      <td>NaN</td>\n      <td>NaN</td>\n      <td>NaN</td>\n    </tr>\n    <tr>\n      <th>11959</th>\n      <td>B-4</td>\n      <td>1346</td>\n      <td>1</td>\n      <td>0</td>\n      <td>andesitic tuff coarse-grained</td>\n      <td>K1al</td>\n      <td>NaN</td>\n      <td>43.191358</td>\n      <td>43.191358</td>\n      <td>NaN</td>\n      <td>...</td>\n      <td>NaN</td>\n      <td>NaN</td>\n      <td>0.00</td>\n      <td>NaN</td>\n      <td>NaN</td>\n      <td>NaN</td>\n      <td>NaN</td>\n      <td>NaN</td>\n      <td>NaN</td>\n      <td>NaN</td>\n    </tr>\n    <tr>\n      <th>11960</th>\n      <td>B-4</td>\n      <td>1347</td>\n      <td>1</td>\n      <td>0</td>\n      <td>andesitic tuff coarse-grained</td>\n      <td>K1al</td>\n      <td>NaN</td>\n      <td>43.191358</td>\n      <td>43.191358</td>\n      <td>NaN</td>\n      <td>...</td>\n      <td>NaN</td>\n      <td>NaN</td>\n      <td>0.00</td>\n      <td>NaN</td>\n      <td>NaN</td>\n      <td>NaN</td>\n      <td>NaN</td>\n      <td>NaN</td>\n      <td>NaN</td>\n      <td>NaN</td>\n    </tr>\n  </tbody>\n</table>\n<p>11961 rows × 30 columns</p>\n</div>"
     },
     "metadata": {},
     "execution_count": 5
    }
   ],
   "source": [
    "data = perfs\n",
    "convert_dict = {'Age': str, \n",
    "                'Lithology': str\n",
    "               } \n",
    "\n",
    "\n",
    "data = data.astype(convert_dict) \n",
    "print(data.dtypes) \n",
    "\n",
    "\n",
    "\n",
    "# data = data[\"Lithology\"].astype(str)\n",
    "data"
   ]
  },
  {
   "cell_type": "code",
   "execution_count": null,
   "metadata": {},
   "outputs": [],
   "source": []
  },
  {
   "cell_type": "code",
   "execution_count": 6,
   "metadata": {},
   "outputs": [
    {
     "output_type": "execute_result",
     "data": {
      "text/plain": [
       "        Well    MD  Perfed  Fracced                      Lithology   Age  \\\n",
       "0      P-103   753       1        1    andesitic tuff fine-grained  K2cp   \n",
       "1      P-103   754       1        1    andesitic tuff fine-grained  K2cp   \n",
       "2      P-103   755       1        1    andesitic tuff fine-grained  K2cp   \n",
       "3      P-103   756       1        1    andesitic tuff fine-grained  K2cp   \n",
       "4      P-103   757       1        1    andesitic tuff fine-grained  K2cp   \n",
       "...      ...   ...     ...      ...                            ...   ...   \n",
       "11956    B-4  1343       1        0  andesitic tuff coarse-grained  K1al   \n",
       "11957    B-4  1344       1        0  andesitic tuff coarse-grained  K1al   \n",
       "11958    B-4  1345       1        0  andesitic tuff coarse-grained  K1al   \n",
       "11959    B-4  1346       1        0  andesitic tuff coarse-grained  K1al   \n",
       "11960    B-4  1347       1        0  andesitic tuff coarse-grained  K1al   \n",
       "\n",
       "         API_Avg    CumOil  \n",
       "0      17.000000  181022.0  \n",
       "1      17.000000  181022.0  \n",
       "2      17.000000  181022.0  \n",
       "3      17.000000  181022.0  \n",
       "4      17.000000  181022.0  \n",
       "...          ...       ...  \n",
       "11956  43.191358       NaN  \n",
       "11957  43.191358       NaN  \n",
       "11958  43.191358       NaN  \n",
       "11959  43.191358       NaN  \n",
       "11960  43.191358       NaN  \n",
       "\n",
       "[11961 rows x 8 columns]"
      ],
      "text/html": "<div>\n<style scoped>\n    .dataframe tbody tr th:only-of-type {\n        vertical-align: middle;\n    }\n\n    .dataframe tbody tr th {\n        vertical-align: top;\n    }\n\n    .dataframe thead th {\n        text-align: right;\n    }\n</style>\n<table border=\"1\" class=\"dataframe\">\n  <thead>\n    <tr style=\"text-align: right;\">\n      <th></th>\n      <th>Well</th>\n      <th>MD</th>\n      <th>Perfed</th>\n      <th>Fracced</th>\n      <th>Lithology</th>\n      <th>Age</th>\n      <th>API_Avg</th>\n      <th>CumOil</th>\n    </tr>\n  </thead>\n  <tbody>\n    <tr>\n      <th>0</th>\n      <td>P-103</td>\n      <td>753</td>\n      <td>1</td>\n      <td>1</td>\n      <td>andesitic tuff fine-grained</td>\n      <td>K2cp</td>\n      <td>17.000000</td>\n      <td>181022.0</td>\n    </tr>\n    <tr>\n      <th>1</th>\n      <td>P-103</td>\n      <td>754</td>\n      <td>1</td>\n      <td>1</td>\n      <td>andesitic tuff fine-grained</td>\n      <td>K2cp</td>\n      <td>17.000000</td>\n      <td>181022.0</td>\n    </tr>\n    <tr>\n      <th>2</th>\n      <td>P-103</td>\n      <td>755</td>\n      <td>1</td>\n      <td>1</td>\n      <td>andesitic tuff fine-grained</td>\n      <td>K2cp</td>\n      <td>17.000000</td>\n      <td>181022.0</td>\n    </tr>\n    <tr>\n      <th>3</th>\n      <td>P-103</td>\n      <td>756</td>\n      <td>1</td>\n      <td>1</td>\n      <td>andesitic tuff fine-grained</td>\n      <td>K2cp</td>\n      <td>17.000000</td>\n      <td>181022.0</td>\n    </tr>\n    <tr>\n      <th>4</th>\n      <td>P-103</td>\n      <td>757</td>\n      <td>1</td>\n      <td>1</td>\n      <td>andesitic tuff fine-grained</td>\n      <td>K2cp</td>\n      <td>17.000000</td>\n      <td>181022.0</td>\n    </tr>\n    <tr>\n      <th>...</th>\n      <td>...</td>\n      <td>...</td>\n      <td>...</td>\n      <td>...</td>\n      <td>...</td>\n      <td>...</td>\n      <td>...</td>\n      <td>...</td>\n    </tr>\n    <tr>\n      <th>11956</th>\n      <td>B-4</td>\n      <td>1343</td>\n      <td>1</td>\n      <td>0</td>\n      <td>andesitic tuff coarse-grained</td>\n      <td>K1al</td>\n      <td>43.191358</td>\n      <td>NaN</td>\n    </tr>\n    <tr>\n      <th>11957</th>\n      <td>B-4</td>\n      <td>1344</td>\n      <td>1</td>\n      <td>0</td>\n      <td>andesitic tuff coarse-grained</td>\n      <td>K1al</td>\n      <td>43.191358</td>\n      <td>NaN</td>\n    </tr>\n    <tr>\n      <th>11958</th>\n      <td>B-4</td>\n      <td>1345</td>\n      <td>1</td>\n      <td>0</td>\n      <td>andesitic tuff coarse-grained</td>\n      <td>K1al</td>\n      <td>43.191358</td>\n      <td>NaN</td>\n    </tr>\n    <tr>\n      <th>11959</th>\n      <td>B-4</td>\n      <td>1346</td>\n      <td>1</td>\n      <td>0</td>\n      <td>andesitic tuff coarse-grained</td>\n      <td>K1al</td>\n      <td>43.191358</td>\n      <td>NaN</td>\n    </tr>\n    <tr>\n      <th>11960</th>\n      <td>B-4</td>\n      <td>1347</td>\n      <td>1</td>\n      <td>0</td>\n      <td>andesitic tuff coarse-grained</td>\n      <td>K1al</td>\n      <td>43.191358</td>\n      <td>NaN</td>\n    </tr>\n  </tbody>\n</table>\n<p>11961 rows × 8 columns</p>\n</div>"
     },
     "metadata": {},
     "execution_count": 6
    }
   ],
   "source": [
    "data = data.drop(columns=['API_PVT', 'API_CUPET', 'DIFF_API', 'GasGravity', 'OilGravity', 'P_Sat', 'Uo', 'Ug', 'Bo', 'Bg', 'CO2', 'H2S', 'InitialRate', 'CurrentRate', 'CurrentWC', 'WaterRate', 'MaxOil', 'BeforeFrac', 'Normalised', 'FracSize', 'BeforeFracProd', 'AfterFracProd'])\n",
    "data"
   ]
  },
  {
   "cell_type": "code",
   "execution_count": 7,
   "metadata": {},
   "outputs": [
    {
     "output_type": "execute_result",
     "data": {
      "text/plain": [
       "        Well    MD  Perfed  Fracced                    Lithology   Age  \\\n",
       "0      P-103   753       1        1  andesitic tuff fine-grained  K2cp   \n",
       "1      P-103   754       1        1  andesitic tuff fine-grained  K2cp   \n",
       "2      P-103   755       1        1  andesitic tuff fine-grained  K2cp   \n",
       "3      P-103   756       1        1  andesitic tuff fine-grained  K2cp   \n",
       "4      P-103   757       1        1  andesitic tuff fine-grained  K2cp   \n",
       "...      ...   ...     ...      ...                          ...   ...   \n",
       "11365   P-60  1019       1        0              polylithic cong   P21   \n",
       "11366   P-60  1020       1        0              polylithic cong   P21   \n",
       "11367   P-60  1021       1        0              polylithic cong   P21   \n",
       "11368   P-60  1022       1        0              polylithic cong   P21   \n",
       "11369   P-60  1023       1        0              polylithic cong   P21   \n",
       "\n",
       "         API_Avg    CumOil  \n",
       "0      17.000000  181022.0  \n",
       "1      17.000000  181022.0  \n",
       "2      17.000000  181022.0  \n",
       "3      17.000000  181022.0  \n",
       "4      17.000000  181022.0  \n",
       "...          ...       ...  \n",
       "11365  26.398363   72560.0  \n",
       "11366  26.398363   72560.0  \n",
       "11367  26.398363   72560.0  \n",
       "11368  26.398363   72560.0  \n",
       "11369  26.398363   72560.0  \n",
       "\n",
       "[6936 rows x 8 columns]"
      ],
      "text/html": "<div>\n<style scoped>\n    .dataframe tbody tr th:only-of-type {\n        vertical-align: middle;\n    }\n\n    .dataframe tbody tr th {\n        vertical-align: top;\n    }\n\n    .dataframe thead th {\n        text-align: right;\n    }\n</style>\n<table border=\"1\" class=\"dataframe\">\n  <thead>\n    <tr style=\"text-align: right;\">\n      <th></th>\n      <th>Well</th>\n      <th>MD</th>\n      <th>Perfed</th>\n      <th>Fracced</th>\n      <th>Lithology</th>\n      <th>Age</th>\n      <th>API_Avg</th>\n      <th>CumOil</th>\n    </tr>\n  </thead>\n  <tbody>\n    <tr>\n      <th>0</th>\n      <td>P-103</td>\n      <td>753</td>\n      <td>1</td>\n      <td>1</td>\n      <td>andesitic tuff fine-grained</td>\n      <td>K2cp</td>\n      <td>17.000000</td>\n      <td>181022.0</td>\n    </tr>\n    <tr>\n      <th>1</th>\n      <td>P-103</td>\n      <td>754</td>\n      <td>1</td>\n      <td>1</td>\n      <td>andesitic tuff fine-grained</td>\n      <td>K2cp</td>\n      <td>17.000000</td>\n      <td>181022.0</td>\n    </tr>\n    <tr>\n      <th>2</th>\n      <td>P-103</td>\n      <td>755</td>\n      <td>1</td>\n      <td>1</td>\n      <td>andesitic tuff fine-grained</td>\n      <td>K2cp</td>\n      <td>17.000000</td>\n      <td>181022.0</td>\n    </tr>\n    <tr>\n      <th>3</th>\n      <td>P-103</td>\n      <td>756</td>\n      <td>1</td>\n      <td>1</td>\n      <td>andesitic tuff fine-grained</td>\n      <td>K2cp</td>\n      <td>17.000000</td>\n      <td>181022.0</td>\n    </tr>\n    <tr>\n      <th>4</th>\n      <td>P-103</td>\n      <td>757</td>\n      <td>1</td>\n      <td>1</td>\n      <td>andesitic tuff fine-grained</td>\n      <td>K2cp</td>\n      <td>17.000000</td>\n      <td>181022.0</td>\n    </tr>\n    <tr>\n      <th>...</th>\n      <td>...</td>\n      <td>...</td>\n      <td>...</td>\n      <td>...</td>\n      <td>...</td>\n      <td>...</td>\n      <td>...</td>\n      <td>...</td>\n    </tr>\n    <tr>\n      <th>11365</th>\n      <td>P-60</td>\n      <td>1019</td>\n      <td>1</td>\n      <td>0</td>\n      <td>polylithic cong</td>\n      <td>P21</td>\n      <td>26.398363</td>\n      <td>72560.0</td>\n    </tr>\n    <tr>\n      <th>11366</th>\n      <td>P-60</td>\n      <td>1020</td>\n      <td>1</td>\n      <td>0</td>\n      <td>polylithic cong</td>\n      <td>P21</td>\n      <td>26.398363</td>\n      <td>72560.0</td>\n    </tr>\n    <tr>\n      <th>11367</th>\n      <td>P-60</td>\n      <td>1021</td>\n      <td>1</td>\n      <td>0</td>\n      <td>polylithic cong</td>\n      <td>P21</td>\n      <td>26.398363</td>\n      <td>72560.0</td>\n    </tr>\n    <tr>\n      <th>11368</th>\n      <td>P-60</td>\n      <td>1022</td>\n      <td>1</td>\n      <td>0</td>\n      <td>polylithic cong</td>\n      <td>P21</td>\n      <td>26.398363</td>\n      <td>72560.0</td>\n    </tr>\n    <tr>\n      <th>11369</th>\n      <td>P-60</td>\n      <td>1023</td>\n      <td>1</td>\n      <td>0</td>\n      <td>polylithic cong</td>\n      <td>P21</td>\n      <td>26.398363</td>\n      <td>72560.0</td>\n    </tr>\n  </tbody>\n</table>\n<p>6936 rows × 8 columns</p>\n</div>"
     },
     "metadata": {},
     "execution_count": 7
    }
   ],
   "source": [
    "data = data.dropna()\n",
    "data"
   ]
  },
  {
   "cell_type": "code",
   "execution_count": 8,
   "metadata": {},
   "outputs": [
    {
     "output_type": "stream",
     "name": "stdout",
     "text": [
      "[[181022.]\n [181022.]\n [181022.]\n ...\n [ 72560.]\n [ 72560.]\n [ 72560.]]\n"
     ]
    },
    {
     "output_type": "execute_result",
     "data": {
      "text/plain": [
       "array([[181022.],\n",
       "       [181022.],\n",
       "       [181022.],\n",
       "       ...,\n",
       "       [ 72560.],\n",
       "       [ 72560.],\n",
       "       [ 72560.]])"
      ]
     },
     "metadata": {},
     "execution_count": 8
    }
   ],
   "source": [
    "target = data[\"CumOil\"].values.reshape(-1,1)\n",
    "print(target)\n",
    "target"
   ]
  },
  {
   "cell_type": "code",
   "execution_count": 9,
   "metadata": {},
   "outputs": [
    {
     "output_type": "execute_result",
     "data": {
      "text/plain": [
       "         MD  Perfed  Fracced                    Lithology   Age    API_Avg\n",
       "0       753       1        1  andesitic tuff fine-grained  K2cp  17.000000\n",
       "1       754       1        1  andesitic tuff fine-grained  K2cp  17.000000\n",
       "2       755       1        1  andesitic tuff fine-grained  K2cp  17.000000\n",
       "3       756       1        1  andesitic tuff fine-grained  K2cp  17.000000\n",
       "4       757       1        1  andesitic tuff fine-grained  K2cp  17.000000\n",
       "...     ...     ...      ...                          ...   ...        ...\n",
       "11365  1019       1        0              polylithic cong   P21  26.398363\n",
       "11366  1020       1        0              polylithic cong   P21  26.398363\n",
       "11367  1021       1        0              polylithic cong   P21  26.398363\n",
       "11368  1022       1        0              polylithic cong   P21  26.398363\n",
       "11369  1023       1        0              polylithic cong   P21  26.398363\n",
       "\n",
       "[6936 rows x 6 columns]"
      ],
      "text/html": "<div>\n<style scoped>\n    .dataframe tbody tr th:only-of-type {\n        vertical-align: middle;\n    }\n\n    .dataframe tbody tr th {\n        vertical-align: top;\n    }\n\n    .dataframe thead th {\n        text-align: right;\n    }\n</style>\n<table border=\"1\" class=\"dataframe\">\n  <thead>\n    <tr style=\"text-align: right;\">\n      <th></th>\n      <th>MD</th>\n      <th>Perfed</th>\n      <th>Fracced</th>\n      <th>Lithology</th>\n      <th>Age</th>\n      <th>API_Avg</th>\n    </tr>\n  </thead>\n  <tbody>\n    <tr>\n      <th>0</th>\n      <td>753</td>\n      <td>1</td>\n      <td>1</td>\n      <td>andesitic tuff fine-grained</td>\n      <td>K2cp</td>\n      <td>17.000000</td>\n    </tr>\n    <tr>\n      <th>1</th>\n      <td>754</td>\n      <td>1</td>\n      <td>1</td>\n      <td>andesitic tuff fine-grained</td>\n      <td>K2cp</td>\n      <td>17.000000</td>\n    </tr>\n    <tr>\n      <th>2</th>\n      <td>755</td>\n      <td>1</td>\n      <td>1</td>\n      <td>andesitic tuff fine-grained</td>\n      <td>K2cp</td>\n      <td>17.000000</td>\n    </tr>\n    <tr>\n      <th>3</th>\n      <td>756</td>\n      <td>1</td>\n      <td>1</td>\n      <td>andesitic tuff fine-grained</td>\n      <td>K2cp</td>\n      <td>17.000000</td>\n    </tr>\n    <tr>\n      <th>4</th>\n      <td>757</td>\n      <td>1</td>\n      <td>1</td>\n      <td>andesitic tuff fine-grained</td>\n      <td>K2cp</td>\n      <td>17.000000</td>\n    </tr>\n    <tr>\n      <th>...</th>\n      <td>...</td>\n      <td>...</td>\n      <td>...</td>\n      <td>...</td>\n      <td>...</td>\n      <td>...</td>\n    </tr>\n    <tr>\n      <th>11365</th>\n      <td>1019</td>\n      <td>1</td>\n      <td>0</td>\n      <td>polylithic cong</td>\n      <td>P21</td>\n      <td>26.398363</td>\n    </tr>\n    <tr>\n      <th>11366</th>\n      <td>1020</td>\n      <td>1</td>\n      <td>0</td>\n      <td>polylithic cong</td>\n      <td>P21</td>\n      <td>26.398363</td>\n    </tr>\n    <tr>\n      <th>11367</th>\n      <td>1021</td>\n      <td>1</td>\n      <td>0</td>\n      <td>polylithic cong</td>\n      <td>P21</td>\n      <td>26.398363</td>\n    </tr>\n    <tr>\n      <th>11368</th>\n      <td>1022</td>\n      <td>1</td>\n      <td>0</td>\n      <td>polylithic cong</td>\n      <td>P21</td>\n      <td>26.398363</td>\n    </tr>\n    <tr>\n      <th>11369</th>\n      <td>1023</td>\n      <td>1</td>\n      <td>0</td>\n      <td>polylithic cong</td>\n      <td>P21</td>\n      <td>26.398363</td>\n    </tr>\n  </tbody>\n</table>\n<p>6936 rows × 6 columns</p>\n</div>"
     },
     "metadata": {},
     "execution_count": 9
    }
   ],
   "source": [
    "data = data.drop(columns=['CumOil','Well'])\n",
    "data"
   ]
  },
  {
   "cell_type": "code",
   "execution_count": 10,
   "metadata": {},
   "outputs": [
    {
     "output_type": "execute_result",
     "data": {
      "text/plain": [
       "         MD  Perfed  Fracced    API_Avg  Lithology_andesite  \\\n",
       "0       753       1        1  17.000000                   0   \n",
       "1       754       1        1  17.000000                   0   \n",
       "2       755       1        1  17.000000                   0   \n",
       "3       756       1        1  17.000000                   0   \n",
       "4       757       1        1  17.000000                   0   \n",
       "...     ...     ...      ...        ...                 ...   \n",
       "11365  1019       1        0  26.398363                   0   \n",
       "11366  1020       1        0  26.398363                   0   \n",
       "11367  1021       1        0  26.398363                   0   \n",
       "11368  1022       1        0  26.398363                   0   \n",
       "11369  1023       1        0  26.398363                   0   \n",
       "\n",
       "       Lithology_andesitic tuff coarse-grained  \\\n",
       "0                                            0   \n",
       "1                                            0   \n",
       "2                                            0   \n",
       "3                                            0   \n",
       "4                                            0   \n",
       "...                                        ...   \n",
       "11365                                        0   \n",
       "11366                                        0   \n",
       "11367                                        0   \n",
       "11368                                        0   \n",
       "11369                                        0   \n",
       "\n",
       "       Lithology_andesitic tuff fine-grained  \\\n",
       "0                                          1   \n",
       "1                                          1   \n",
       "2                                          1   \n",
       "3                                          1   \n",
       "4                                          1   \n",
       "...                                      ...   \n",
       "11365                                      0   \n",
       "11366                                      0   \n",
       "11367                                      0   \n",
       "11368                                      0   \n",
       "11369                                      0   \n",
       "\n",
       "       Lithology_andesitic tuff med-grained  Lithology_andestic tuff  \\\n",
       "0                                         0                        0   \n",
       "1                                         0                        0   \n",
       "2                                         0                        0   \n",
       "3                                         0                        0   \n",
       "4                                         0                        0   \n",
       "...                                     ...                      ...   \n",
       "11365                                     0                        0   \n",
       "11366                                     0                        0   \n",
       "11367                                     0                        0   \n",
       "11368                                     0                        0   \n",
       "11369                                     0                        0   \n",
       "\n",
       "       Lithology_argillaceous tuff  ...  Lithology_tuffaceous cong  \\\n",
       "0                                0  ...                          0   \n",
       "1                                0  ...                          0   \n",
       "2                                0  ...                          0   \n",
       "3                                0  ...                          0   \n",
       "4                                0  ...                          0   \n",
       "...                            ...  ...                        ...   \n",
       "11365                            0  ...                          0   \n",
       "11366                            0  ...                          0   \n",
       "11367                            0  ...                          0   \n",
       "11368                            0  ...                          0   \n",
       "11369                            0  ...                          0   \n",
       "\n",
       "       Lithology_tuffaceous lst  Age_K1al-K2cm  Age_K1al-K2tu  Age_K1ap-al  \\\n",
       "0                             0              0              0            0   \n",
       "1                             0              0              0            0   \n",
       "2                             0              0              0            0   \n",
       "3                             0              0              0            0   \n",
       "4                             0              0              0            0   \n",
       "...                         ...            ...            ...          ...   \n",
       "11365                         0              0              0            0   \n",
       "11366                         0              0              0            0   \n",
       "11367                         0              0              0            0   \n",
       "11368                         0              0              0            0   \n",
       "11369                         0              0              0            0   \n",
       "\n",
       "       Age_K2cp  Age_K2upmaas  Age_P21  Age_P22  Age_nan  \n",
       "0             1             0        0        0        0  \n",
       "1             1             0        0        0        0  \n",
       "2             1             0        0        0        0  \n",
       "3             1             0        0        0        0  \n",
       "4             1             0        0        0        0  \n",
       "...         ...           ...      ...      ...      ...  \n",
       "11365         0             0        1        0        0  \n",
       "11366         0             0        1        0        0  \n",
       "11367         0             0        1        0        0  \n",
       "11368         0             0        1        0        0  \n",
       "11369         0             0        1        0        0  \n",
       "\n",
       "[6936 rows x 29 columns]"
      ],
      "text/html": "<div>\n<style scoped>\n    .dataframe tbody tr th:only-of-type {\n        vertical-align: middle;\n    }\n\n    .dataframe tbody tr th {\n        vertical-align: top;\n    }\n\n    .dataframe thead th {\n        text-align: right;\n    }\n</style>\n<table border=\"1\" class=\"dataframe\">\n  <thead>\n    <tr style=\"text-align: right;\">\n      <th></th>\n      <th>MD</th>\n      <th>Perfed</th>\n      <th>Fracced</th>\n      <th>API_Avg</th>\n      <th>Lithology_andesite</th>\n      <th>Lithology_andesitic tuff coarse-grained</th>\n      <th>Lithology_andesitic tuff fine-grained</th>\n      <th>Lithology_andesitic tuff med-grained</th>\n      <th>Lithology_andestic tuff</th>\n      <th>Lithology_argillaceous tuff</th>\n      <th>...</th>\n      <th>Lithology_tuffaceous cong</th>\n      <th>Lithology_tuffaceous lst</th>\n      <th>Age_K1al-K2cm</th>\n      <th>Age_K1al-K2tu</th>\n      <th>Age_K1ap-al</th>\n      <th>Age_K2cp</th>\n      <th>Age_K2upmaas</th>\n      <th>Age_P21</th>\n      <th>Age_P22</th>\n      <th>Age_nan</th>\n    </tr>\n  </thead>\n  <tbody>\n    <tr>\n      <th>0</th>\n      <td>753</td>\n      <td>1</td>\n      <td>1</td>\n      <td>17.000000</td>\n      <td>0</td>\n      <td>0</td>\n      <td>1</td>\n      <td>0</td>\n      <td>0</td>\n      <td>0</td>\n      <td>...</td>\n      <td>0</td>\n      <td>0</td>\n      <td>0</td>\n      <td>0</td>\n      <td>0</td>\n      <td>1</td>\n      <td>0</td>\n      <td>0</td>\n      <td>0</td>\n      <td>0</td>\n    </tr>\n    <tr>\n      <th>1</th>\n      <td>754</td>\n      <td>1</td>\n      <td>1</td>\n      <td>17.000000</td>\n      <td>0</td>\n      <td>0</td>\n      <td>1</td>\n      <td>0</td>\n      <td>0</td>\n      <td>0</td>\n      <td>...</td>\n      <td>0</td>\n      <td>0</td>\n      <td>0</td>\n      <td>0</td>\n      <td>0</td>\n      <td>1</td>\n      <td>0</td>\n      <td>0</td>\n      <td>0</td>\n      <td>0</td>\n    </tr>\n    <tr>\n      <th>2</th>\n      <td>755</td>\n      <td>1</td>\n      <td>1</td>\n      <td>17.000000</td>\n      <td>0</td>\n      <td>0</td>\n      <td>1</td>\n      <td>0</td>\n      <td>0</td>\n      <td>0</td>\n      <td>...</td>\n      <td>0</td>\n      <td>0</td>\n      <td>0</td>\n      <td>0</td>\n      <td>0</td>\n      <td>1</td>\n      <td>0</td>\n      <td>0</td>\n      <td>0</td>\n      <td>0</td>\n    </tr>\n    <tr>\n      <th>3</th>\n      <td>756</td>\n      <td>1</td>\n      <td>1</td>\n      <td>17.000000</td>\n      <td>0</td>\n      <td>0</td>\n      <td>1</td>\n      <td>0</td>\n      <td>0</td>\n      <td>0</td>\n      <td>...</td>\n      <td>0</td>\n      <td>0</td>\n      <td>0</td>\n      <td>0</td>\n      <td>0</td>\n      <td>1</td>\n      <td>0</td>\n      <td>0</td>\n      <td>0</td>\n      <td>0</td>\n    </tr>\n    <tr>\n      <th>4</th>\n      <td>757</td>\n      <td>1</td>\n      <td>1</td>\n      <td>17.000000</td>\n      <td>0</td>\n      <td>0</td>\n      <td>1</td>\n      <td>0</td>\n      <td>0</td>\n      <td>0</td>\n      <td>...</td>\n      <td>0</td>\n      <td>0</td>\n      <td>0</td>\n      <td>0</td>\n      <td>0</td>\n      <td>1</td>\n      <td>0</td>\n      <td>0</td>\n      <td>0</td>\n      <td>0</td>\n    </tr>\n    <tr>\n      <th>...</th>\n      <td>...</td>\n      <td>...</td>\n      <td>...</td>\n      <td>...</td>\n      <td>...</td>\n      <td>...</td>\n      <td>...</td>\n      <td>...</td>\n      <td>...</td>\n      <td>...</td>\n      <td>...</td>\n      <td>...</td>\n      <td>...</td>\n      <td>...</td>\n      <td>...</td>\n      <td>...</td>\n      <td>...</td>\n      <td>...</td>\n      <td>...</td>\n      <td>...</td>\n      <td>...</td>\n    </tr>\n    <tr>\n      <th>11365</th>\n      <td>1019</td>\n      <td>1</td>\n      <td>0</td>\n      <td>26.398363</td>\n      <td>0</td>\n      <td>0</td>\n      <td>0</td>\n      <td>0</td>\n      <td>0</td>\n      <td>0</td>\n      <td>...</td>\n      <td>0</td>\n      <td>0</td>\n      <td>0</td>\n      <td>0</td>\n      <td>0</td>\n      <td>0</td>\n      <td>0</td>\n      <td>1</td>\n      <td>0</td>\n      <td>0</td>\n    </tr>\n    <tr>\n      <th>11366</th>\n      <td>1020</td>\n      <td>1</td>\n      <td>0</td>\n      <td>26.398363</td>\n      <td>0</td>\n      <td>0</td>\n      <td>0</td>\n      <td>0</td>\n      <td>0</td>\n      <td>0</td>\n      <td>...</td>\n      <td>0</td>\n      <td>0</td>\n      <td>0</td>\n      <td>0</td>\n      <td>0</td>\n      <td>0</td>\n      <td>0</td>\n      <td>1</td>\n      <td>0</td>\n      <td>0</td>\n    </tr>\n    <tr>\n      <th>11367</th>\n      <td>1021</td>\n      <td>1</td>\n      <td>0</td>\n      <td>26.398363</td>\n      <td>0</td>\n      <td>0</td>\n      <td>0</td>\n      <td>0</td>\n      <td>0</td>\n      <td>0</td>\n      <td>...</td>\n      <td>0</td>\n      <td>0</td>\n      <td>0</td>\n      <td>0</td>\n      <td>0</td>\n      <td>0</td>\n      <td>0</td>\n      <td>1</td>\n      <td>0</td>\n      <td>0</td>\n    </tr>\n    <tr>\n      <th>11368</th>\n      <td>1022</td>\n      <td>1</td>\n      <td>0</td>\n      <td>26.398363</td>\n      <td>0</td>\n      <td>0</td>\n      <td>0</td>\n      <td>0</td>\n      <td>0</td>\n      <td>0</td>\n      <td>...</td>\n      <td>0</td>\n      <td>0</td>\n      <td>0</td>\n      <td>0</td>\n      <td>0</td>\n      <td>0</td>\n      <td>0</td>\n      <td>1</td>\n      <td>0</td>\n      <td>0</td>\n    </tr>\n    <tr>\n      <th>11369</th>\n      <td>1023</td>\n      <td>1</td>\n      <td>0</td>\n      <td>26.398363</td>\n      <td>0</td>\n      <td>0</td>\n      <td>0</td>\n      <td>0</td>\n      <td>0</td>\n      <td>0</td>\n      <td>...</td>\n      <td>0</td>\n      <td>0</td>\n      <td>0</td>\n      <td>0</td>\n      <td>0</td>\n      <td>0</td>\n      <td>0</td>\n      <td>1</td>\n      <td>0</td>\n      <td>0</td>\n    </tr>\n  </tbody>\n</table>\n<p>6936 rows × 29 columns</p>\n</div>"
     },
     "metadata": {},
     "execution_count": 10
    }
   ],
   "source": [
    "data_binary_encoded = pd.get_dummies(data, columns=[\"Lithology\",\"Age\"])\n",
    "data_binary_encoded"
   ]
  },
  {
   "cell_type": "code",
   "execution_count": 11,
   "metadata": {},
   "outputs": [
    {
     "output_type": "execute_result",
     "data": {
      "text/plain": [
       "Index(['MD', 'Perfed', 'Fracced', 'API_Avg', 'Lithology_andesite',\n",
       "       'Lithology_andesitic tuff coarse-grained',\n",
       "       'Lithology_andesitic tuff fine-grained',\n",
       "       'Lithology_andesitic tuff med-grained', 'Lithology_andestic tuff',\n",
       "       'Lithology_argillaceous tuff', 'Lithology_basalt',\n",
       "       'Lithology_basaltic tuff', 'Lithology_breccia',\n",
       "       'Lithology_claystone/marl', 'Lithology_claystone/marl/marl',\n",
       "       'Lithology_limestone', 'Lithology_nan', 'Lithology_polylithic cong',\n",
       "       'Lithology_polylithic sst', 'Lithology_tuffaceous cong',\n",
       "       'Lithology_tuffaceous lst', 'Age_K1al-K2cm', 'Age_K1al-K2tu',\n",
       "       'Age_K1ap-al', 'Age_K2cp', 'Age_K2upmaas', 'Age_P21', 'Age_P22',\n",
       "       'Age_nan'],\n",
       "      dtype='object')"
      ]
     },
     "metadata": {},
     "execution_count": 11
    }
   ],
   "source": [
    "data_binary_encoded.columns"
   ]
  },
  {
   "cell_type": "code",
   "execution_count": 12,
   "metadata": {},
   "outputs": [],
   "source": [
    "data_binary_encoded = data_binary_encoded.drop(columns=['Age_nan', 'Lithology_nan', 'Age_P22', 'Lithology_limestone'])"
   ]
  },
  {
   "cell_type": "code",
   "execution_count": 13,
   "metadata": {},
   "outputs": [
    {
     "output_type": "execute_result",
     "data": {
      "text/plain": [
       "         MD  Perfed  Fracced    API_Avg  Lithology_andesite  \\\n",
       "0       753       1        1  17.000000                   0   \n",
       "1       754       1        1  17.000000                   0   \n",
       "2       755       1        1  17.000000                   0   \n",
       "3       756       1        1  17.000000                   0   \n",
       "4       757       1        1  17.000000                   0   \n",
       "...     ...     ...      ...        ...                 ...   \n",
       "11365  1019       1        0  26.398363                   0   \n",
       "11366  1020       1        0  26.398363                   0   \n",
       "11367  1021       1        0  26.398363                   0   \n",
       "11368  1022       1        0  26.398363                   0   \n",
       "11369  1023       1        0  26.398363                   0   \n",
       "\n",
       "       Lithology_andesitic tuff coarse-grained  \\\n",
       "0                                            0   \n",
       "1                                            0   \n",
       "2                                            0   \n",
       "3                                            0   \n",
       "4                                            0   \n",
       "...                                        ...   \n",
       "11365                                        0   \n",
       "11366                                        0   \n",
       "11367                                        0   \n",
       "11368                                        0   \n",
       "11369                                        0   \n",
       "\n",
       "       Lithology_andesitic tuff fine-grained  \\\n",
       "0                                          1   \n",
       "1                                          1   \n",
       "2                                          1   \n",
       "3                                          1   \n",
       "4                                          1   \n",
       "...                                      ...   \n",
       "11365                                      0   \n",
       "11366                                      0   \n",
       "11367                                      0   \n",
       "11368                                      0   \n",
       "11369                                      0   \n",
       "\n",
       "       Lithology_andesitic tuff med-grained  Lithology_andestic tuff  \\\n",
       "0                                         0                        0   \n",
       "1                                         0                        0   \n",
       "2                                         0                        0   \n",
       "3                                         0                        0   \n",
       "4                                         0                        0   \n",
       "...                                     ...                      ...   \n",
       "11365                                     0                        0   \n",
       "11366                                     0                        0   \n",
       "11367                                     0                        0   \n",
       "11368                                     0                        0   \n",
       "11369                                     0                        0   \n",
       "\n",
       "       Lithology_argillaceous tuff  ...  Lithology_polylithic cong  \\\n",
       "0                                0  ...                          0   \n",
       "1                                0  ...                          0   \n",
       "2                                0  ...                          0   \n",
       "3                                0  ...                          0   \n",
       "4                                0  ...                          0   \n",
       "...                            ...  ...                        ...   \n",
       "11365                            0  ...                          1   \n",
       "11366                            0  ...                          1   \n",
       "11367                            0  ...                          1   \n",
       "11368                            0  ...                          1   \n",
       "11369                            0  ...                          1   \n",
       "\n",
       "       Lithology_polylithic sst  Lithology_tuffaceous cong  \\\n",
       "0                             0                          0   \n",
       "1                             0                          0   \n",
       "2                             0                          0   \n",
       "3                             0                          0   \n",
       "4                             0                          0   \n",
       "...                         ...                        ...   \n",
       "11365                         0                          0   \n",
       "11366                         0                          0   \n",
       "11367                         0                          0   \n",
       "11368                         0                          0   \n",
       "11369                         0                          0   \n",
       "\n",
       "       Lithology_tuffaceous lst  Age_K1al-K2cm  Age_K1al-K2tu  Age_K1ap-al  \\\n",
       "0                             0              0              0            0   \n",
       "1                             0              0              0            0   \n",
       "2                             0              0              0            0   \n",
       "3                             0              0              0            0   \n",
       "4                             0              0              0            0   \n",
       "...                         ...            ...            ...          ...   \n",
       "11365                         0              0              0            0   \n",
       "11366                         0              0              0            0   \n",
       "11367                         0              0              0            0   \n",
       "11368                         0              0              0            0   \n",
       "11369                         0              0              0            0   \n",
       "\n",
       "       Age_K2cp  Age_K2upmaas  Age_P21  \n",
       "0             1             0        0  \n",
       "1             1             0        0  \n",
       "2             1             0        0  \n",
       "3             1             0        0  \n",
       "4             1             0        0  \n",
       "...         ...           ...      ...  \n",
       "11365         0             0        1  \n",
       "11366         0             0        1  \n",
       "11367         0             0        1  \n",
       "11368         0             0        1  \n",
       "11369         0             0        1  \n",
       "\n",
       "[6936 rows x 25 columns]"
      ],
      "text/html": "<div>\n<style scoped>\n    .dataframe tbody tr th:only-of-type {\n        vertical-align: middle;\n    }\n\n    .dataframe tbody tr th {\n        vertical-align: top;\n    }\n\n    .dataframe thead th {\n        text-align: right;\n    }\n</style>\n<table border=\"1\" class=\"dataframe\">\n  <thead>\n    <tr style=\"text-align: right;\">\n      <th></th>\n      <th>MD</th>\n      <th>Perfed</th>\n      <th>Fracced</th>\n      <th>API_Avg</th>\n      <th>Lithology_andesite</th>\n      <th>Lithology_andesitic tuff coarse-grained</th>\n      <th>Lithology_andesitic tuff fine-grained</th>\n      <th>Lithology_andesitic tuff med-grained</th>\n      <th>Lithology_andestic tuff</th>\n      <th>Lithology_argillaceous tuff</th>\n      <th>...</th>\n      <th>Lithology_polylithic cong</th>\n      <th>Lithology_polylithic sst</th>\n      <th>Lithology_tuffaceous cong</th>\n      <th>Lithology_tuffaceous lst</th>\n      <th>Age_K1al-K2cm</th>\n      <th>Age_K1al-K2tu</th>\n      <th>Age_K1ap-al</th>\n      <th>Age_K2cp</th>\n      <th>Age_K2upmaas</th>\n      <th>Age_P21</th>\n    </tr>\n  </thead>\n  <tbody>\n    <tr>\n      <th>0</th>\n      <td>753</td>\n      <td>1</td>\n      <td>1</td>\n      <td>17.000000</td>\n      <td>0</td>\n      <td>0</td>\n      <td>1</td>\n      <td>0</td>\n      <td>0</td>\n      <td>0</td>\n      <td>...</td>\n      <td>0</td>\n      <td>0</td>\n      <td>0</td>\n      <td>0</td>\n      <td>0</td>\n      <td>0</td>\n      <td>0</td>\n      <td>1</td>\n      <td>0</td>\n      <td>0</td>\n    </tr>\n    <tr>\n      <th>1</th>\n      <td>754</td>\n      <td>1</td>\n      <td>1</td>\n      <td>17.000000</td>\n      <td>0</td>\n      <td>0</td>\n      <td>1</td>\n      <td>0</td>\n      <td>0</td>\n      <td>0</td>\n      <td>...</td>\n      <td>0</td>\n      <td>0</td>\n      <td>0</td>\n      <td>0</td>\n      <td>0</td>\n      <td>0</td>\n      <td>0</td>\n      <td>1</td>\n      <td>0</td>\n      <td>0</td>\n    </tr>\n    <tr>\n      <th>2</th>\n      <td>755</td>\n      <td>1</td>\n      <td>1</td>\n      <td>17.000000</td>\n      <td>0</td>\n      <td>0</td>\n      <td>1</td>\n      <td>0</td>\n      <td>0</td>\n      <td>0</td>\n      <td>...</td>\n      <td>0</td>\n      <td>0</td>\n      <td>0</td>\n      <td>0</td>\n      <td>0</td>\n      <td>0</td>\n      <td>0</td>\n      <td>1</td>\n      <td>0</td>\n      <td>0</td>\n    </tr>\n    <tr>\n      <th>3</th>\n      <td>756</td>\n      <td>1</td>\n      <td>1</td>\n      <td>17.000000</td>\n      <td>0</td>\n      <td>0</td>\n      <td>1</td>\n      <td>0</td>\n      <td>0</td>\n      <td>0</td>\n      <td>...</td>\n      <td>0</td>\n      <td>0</td>\n      <td>0</td>\n      <td>0</td>\n      <td>0</td>\n      <td>0</td>\n      <td>0</td>\n      <td>1</td>\n      <td>0</td>\n      <td>0</td>\n    </tr>\n    <tr>\n      <th>4</th>\n      <td>757</td>\n      <td>1</td>\n      <td>1</td>\n      <td>17.000000</td>\n      <td>0</td>\n      <td>0</td>\n      <td>1</td>\n      <td>0</td>\n      <td>0</td>\n      <td>0</td>\n      <td>...</td>\n      <td>0</td>\n      <td>0</td>\n      <td>0</td>\n      <td>0</td>\n      <td>0</td>\n      <td>0</td>\n      <td>0</td>\n      <td>1</td>\n      <td>0</td>\n      <td>0</td>\n    </tr>\n    <tr>\n      <th>...</th>\n      <td>...</td>\n      <td>...</td>\n      <td>...</td>\n      <td>...</td>\n      <td>...</td>\n      <td>...</td>\n      <td>...</td>\n      <td>...</td>\n      <td>...</td>\n      <td>...</td>\n      <td>...</td>\n      <td>...</td>\n      <td>...</td>\n      <td>...</td>\n      <td>...</td>\n      <td>...</td>\n      <td>...</td>\n      <td>...</td>\n      <td>...</td>\n      <td>...</td>\n      <td>...</td>\n    </tr>\n    <tr>\n      <th>11365</th>\n      <td>1019</td>\n      <td>1</td>\n      <td>0</td>\n      <td>26.398363</td>\n      <td>0</td>\n      <td>0</td>\n      <td>0</td>\n      <td>0</td>\n      <td>0</td>\n      <td>0</td>\n      <td>...</td>\n      <td>1</td>\n      <td>0</td>\n      <td>0</td>\n      <td>0</td>\n      <td>0</td>\n      <td>0</td>\n      <td>0</td>\n      <td>0</td>\n      <td>0</td>\n      <td>1</td>\n    </tr>\n    <tr>\n      <th>11366</th>\n      <td>1020</td>\n      <td>1</td>\n      <td>0</td>\n      <td>26.398363</td>\n      <td>0</td>\n      <td>0</td>\n      <td>0</td>\n      <td>0</td>\n      <td>0</td>\n      <td>0</td>\n      <td>...</td>\n      <td>1</td>\n      <td>0</td>\n      <td>0</td>\n      <td>0</td>\n      <td>0</td>\n      <td>0</td>\n      <td>0</td>\n      <td>0</td>\n      <td>0</td>\n      <td>1</td>\n    </tr>\n    <tr>\n      <th>11367</th>\n      <td>1021</td>\n      <td>1</td>\n      <td>0</td>\n      <td>26.398363</td>\n      <td>0</td>\n      <td>0</td>\n      <td>0</td>\n      <td>0</td>\n      <td>0</td>\n      <td>0</td>\n      <td>...</td>\n      <td>1</td>\n      <td>0</td>\n      <td>0</td>\n      <td>0</td>\n      <td>0</td>\n      <td>0</td>\n      <td>0</td>\n      <td>0</td>\n      <td>0</td>\n      <td>1</td>\n    </tr>\n    <tr>\n      <th>11368</th>\n      <td>1022</td>\n      <td>1</td>\n      <td>0</td>\n      <td>26.398363</td>\n      <td>0</td>\n      <td>0</td>\n      <td>0</td>\n      <td>0</td>\n      <td>0</td>\n      <td>0</td>\n      <td>...</td>\n      <td>1</td>\n      <td>0</td>\n      <td>0</td>\n      <td>0</td>\n      <td>0</td>\n      <td>0</td>\n      <td>0</td>\n      <td>0</td>\n      <td>0</td>\n      <td>1</td>\n    </tr>\n    <tr>\n      <th>11369</th>\n      <td>1023</td>\n      <td>1</td>\n      <td>0</td>\n      <td>26.398363</td>\n      <td>0</td>\n      <td>0</td>\n      <td>0</td>\n      <td>0</td>\n      <td>0</td>\n      <td>0</td>\n      <td>...</td>\n      <td>1</td>\n      <td>0</td>\n      <td>0</td>\n      <td>0</td>\n      <td>0</td>\n      <td>0</td>\n      <td>0</td>\n      <td>0</td>\n      <td>0</td>\n      <td>1</td>\n    </tr>\n  </tbody>\n</table>\n<p>6936 rows × 25 columns</p>\n</div>"
     },
     "metadata": {},
     "execution_count": 13
    }
   ],
   "source": [
    "data_binary_encoded"
   ]
  },
  {
   "cell_type": "code",
   "execution_count": 14,
   "metadata": {},
   "outputs": [
    {
     "output_type": "execute_result",
     "data": {
      "text/plain": [
       "0.9997071741804155"
      ]
     },
     "metadata": {},
     "execution_count": 14
    }
   ],
   "source": [
    "# Create a random forest classifier\n",
    "rf = RandomForestRegressor(n_estimators=200)\n",
    "rf = rf.fit(data_binary_encoded, target)\n",
    "rf.score(data_binary_encoded, target)"
   ]
  },
  {
   "cell_type": "code",
   "execution_count": 15,
   "metadata": {},
   "outputs": [
    {
     "output_type": "execute_result",
     "data": {
      "text/plain": [
       "array([3.17511638e-01, 2.83365503e-06, 1.16637420e-01, 4.19695176e-01,\n",
       "       6.31803546e-03, 1.82084151e-02, 4.84524956e-03, 1.11492223e-02,\n",
       "       1.44246315e-02, 0.00000000e+00, 5.93591028e-03, 2.17132841e-06,\n",
       "       8.56852524e-07, 4.07912821e-05, 0.00000000e+00, 2.74355970e-03,\n",
       "       1.66551387e-05, 7.42230255e-03, 1.20996102e-03, 1.09528359e-02,\n",
       "       9.93934041e-04, 5.39477774e-02, 7.15231897e-03, 6.80251362e-06,\n",
       "       7.81501908e-04])"
      ]
     },
     "metadata": {},
     "execution_count": 15
    }
   ],
   "source": [
    "# Random Forests in sklearn will automatically calculate feature importance\n",
    "importances = rf.feature_importances_\n",
    "importances"
   ]
  },
  {
   "cell_type": "code",
   "execution_count": 16,
   "metadata": {},
   "outputs": [
    {
     "output_type": "error",
     "ename": "AttributeError",
     "evalue": "'DataFrame' object has no attribute 'feature_names'",
     "traceback": [
      "\u001b[1;31m---------------------------------------------------------------------------\u001b[0m",
      "\u001b[1;31mAttributeError\u001b[0m                            Traceback (most recent call last)",
      "\u001b[1;32m<ipython-input-16-bcb3775db0c6>\u001b[0m in \u001b[0;36m<module>\u001b[1;34m\u001b[0m\n\u001b[0;32m      1\u001b[0m \u001b[1;31m# We can sort the features by their importance\u001b[0m\u001b[1;33m\u001b[0m\u001b[1;33m\u001b[0m\u001b[1;33m\u001b[0m\u001b[0m\n\u001b[1;32m----> 2\u001b[1;33m \u001b[0msorted\u001b[0m\u001b[1;33m(\u001b[0m\u001b[0mzip\u001b[0m\u001b[1;33m(\u001b[0m\u001b[0mrf\u001b[0m\u001b[1;33m.\u001b[0m\u001b[0mfeature_importances_\u001b[0m\u001b[1;33m,\u001b[0m \u001b[0mdata_binary_encoded\u001b[0m\u001b[1;33m.\u001b[0m\u001b[0mfeature_names\u001b[0m\u001b[1;33m)\u001b[0m\u001b[1;33m,\u001b[0m \u001b[0mreverse\u001b[0m\u001b[1;33m=\u001b[0m\u001b[1;32mTrue\u001b[0m\u001b[1;33m)\u001b[0m\u001b[1;33m\u001b[0m\u001b[1;33m\u001b[0m\u001b[0m\n\u001b[0m",
      "\u001b[1;32mC:\\ProgramData\\Anaconda3\\lib\\site-packages\\pandas\\core\\generic.py\u001b[0m in \u001b[0;36m__getattr__\u001b[1;34m(self, name)\u001b[0m\n\u001b[0;32m   5272\u001b[0m             \u001b[1;32mif\u001b[0m \u001b[0mself\u001b[0m\u001b[1;33m.\u001b[0m\u001b[0m_info_axis\u001b[0m\u001b[1;33m.\u001b[0m\u001b[0m_can_hold_identifiers_and_holds_name\u001b[0m\u001b[1;33m(\u001b[0m\u001b[0mname\u001b[0m\u001b[1;33m)\u001b[0m\u001b[1;33m:\u001b[0m\u001b[1;33m\u001b[0m\u001b[1;33m\u001b[0m\u001b[0m\n\u001b[0;32m   5273\u001b[0m                 \u001b[1;32mreturn\u001b[0m \u001b[0mself\u001b[0m\u001b[1;33m[\u001b[0m\u001b[0mname\u001b[0m\u001b[1;33m]\u001b[0m\u001b[1;33m\u001b[0m\u001b[1;33m\u001b[0m\u001b[0m\n\u001b[1;32m-> 5274\u001b[1;33m             \u001b[1;32mreturn\u001b[0m \u001b[0mobject\u001b[0m\u001b[1;33m.\u001b[0m\u001b[0m__getattribute__\u001b[0m\u001b[1;33m(\u001b[0m\u001b[0mself\u001b[0m\u001b[1;33m,\u001b[0m \u001b[0mname\u001b[0m\u001b[1;33m)\u001b[0m\u001b[1;33m\u001b[0m\u001b[1;33m\u001b[0m\u001b[0m\n\u001b[0m\u001b[0;32m   5275\u001b[0m \u001b[1;33m\u001b[0m\u001b[0m\n\u001b[0;32m   5276\u001b[0m     \u001b[1;32mdef\u001b[0m \u001b[0m__setattr__\u001b[0m\u001b[1;33m(\u001b[0m\u001b[0mself\u001b[0m\u001b[1;33m,\u001b[0m \u001b[0mname\u001b[0m\u001b[1;33m:\u001b[0m \u001b[0mstr\u001b[0m\u001b[1;33m,\u001b[0m \u001b[0mvalue\u001b[0m\u001b[1;33m)\u001b[0m \u001b[1;33m->\u001b[0m \u001b[1;32mNone\u001b[0m\u001b[1;33m:\u001b[0m\u001b[1;33m\u001b[0m\u001b[1;33m\u001b[0m\u001b[0m\n",
      "\u001b[1;31mAttributeError\u001b[0m: 'DataFrame' object has no attribute 'feature_names'"
     ]
    }
   ],
   "source": [
    "# We can sort the features by their importance\n",
    "sorted(zip(rf.feature_importances_, data_binary_encoded.feature_names), reverse=True)"
   ]
  },
  {
   "cell_type": "code",
   "execution_count": null,
   "metadata": {},
   "outputs": [],
   "source": [
    "# Create a random forest classifier\n",
    "# rf = RandomForestClassifier(n_estimators=200)\n",
    "# rf = rf.fit(iris.data, iris.target)\n",
    "# rf.score(iris.data, iris.target)"
   ]
  }
 ]
}